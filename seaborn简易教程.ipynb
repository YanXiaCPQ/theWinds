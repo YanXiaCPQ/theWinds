{
 "cells": [
  {
   "cell_type": "markdown",
   "metadata": {},
   "source": [
    "https://zhuanlan.zhihu.com/p/27570774"
   ]
  },
  {
   "cell_type": "code",
   "execution_count": 3,
   "metadata": {},
   "outputs": [],
   "source": [
    "import seaborn as sns"
   ]
  },
  {
   "cell_type": "markdown",
   "metadata": {},
   "source": [
    "# 1 图表控制"
   ]
  },
  {
   "cell_type": "markdown",
   "metadata": {},
   "source": [
    "## 1.1 控制样式和扩展绘图\n",
    "> 控制样式：axes_style()和set_style()函数  \n",
    ">\n",
    "> 扩展绘图：plotting_context()和set_context()函数\n",
    ">\n",
    "在这两种情况下，第一个函数返回一个参数字典，第二个函数则设置matplotlib默认属性。前者在更详细的配置中使用，将返回结果作为后者参数使用；后者可用在快速配置。"
   ]
  },
  {
   "cell_type": "markdown",
   "metadata": {},
   "source": [
    "### 1.1.1  set_style()  背景样式设置\n",
    "参数：\n",
    "* darkgrid 黑色网格（默认）\n",
    "* whitegrid 白色网格\n",
    "* dark 黑色背景\n",
    "* white 白色背景\n",
    "* ticks 应该是四周都有刻度线的白背景？"
   ]
  },
  {
   "cell_type": "markdown",
   "metadata": {},
   "source": [
    "### 1.1.2 axes_style()\n",
    "定制seanborn的样式，可以将参数字典传递给axes_style()和set_style()的rc参数"
   ]
  },
  {
   "cell_type": "code",
   "execution_count": 6,
   "metadata": {},
   "outputs": [
    {
     "data": {
      "text/plain": [
       "{'axes.facecolor': 'w',\n",
       " 'axes.edgecolor': 'k',\n",
       " 'axes.grid': False,\n",
       " 'axes.axisbelow': 'line',\n",
       " 'axes.linewidth': 0.8,\n",
       " 'axes.labelcolor': 'k',\n",
       " 'figure.facecolor': (1, 1, 1, 0),\n",
       " 'grid.color': '#b0b0b0',\n",
       " 'grid.linestyle': '-',\n",
       " 'text.color': 'k',\n",
       " 'xtick.color': 'k',\n",
       " 'ytick.color': 'k',\n",
       " 'xtick.direction': 'out',\n",
       " 'ytick.direction': 'out',\n",
       " 'xtick.major.size': 3.5,\n",
       " 'ytick.major.size': 3.5,\n",
       " 'xtick.minor.size': 2.0,\n",
       " 'ytick.minor.size': 2.0,\n",
       " 'legend.frameon': True,\n",
       " 'legend.numpoints': 1,\n",
       " 'legend.scatterpoints': 1,\n",
       " 'lines.solid_capstyle': 'projecting',\n",
       " 'image.cmap': 'viridis',\n",
       " 'font.family': ['sans-serif'],\n",
       " 'font.sans-serif': ['DejaVu Sans',\n",
       "  'Bitstream Vera Sans',\n",
       "  'Computer Modern Sans Serif',\n",
       "  'Lucida Grande',\n",
       "  'Verdana',\n",
       "  'Geneva',\n",
       "  'Lucid',\n",
       "  'Arial',\n",
       "  'Helvetica',\n",
       "  'Avant Garde',\n",
       "  'sans-serif']}"
      ]
     },
     "execution_count": 6,
     "metadata": {},
     "output_type": "execute_result"
    }
   ],
   "source": [
    "sns.axes_style()"
   ]
  },
  {
   "cell_type": "markdown",
   "metadata": {},
   "source": [
    "### 1.1.3 despine() 边框控制\n",
    "despine(  \n",
    "- fig=None,   \n",
    "- ax=None,   \n",
    "- top=True,      # 删除左边边框（下同）\n",
    "- right=True,    \n",
    "- left=False,       \n",
    "- bottom=False,   \n",
    "- offset=None,    # offset 两坐标轴离开距离\n",
    "- trim=False     # trim 两坐标轴是否离开  \n",
    ")"
   ]
  },
  {
   "cell_type": "markdown",
   "metadata": {},
   "source": [
    "### 1.1.4 plotting_context() 和 set_context() 调整绘图元素\n",
    "1. 首先，可以通过sns.set()重置参数  \n",
    "1. 四种预设，按相对尺寸的顺序(线条越来越粗)，分别是paper，notebook, talk, and poster  \n",
    "1. sns.set_context(\"paper\")\n",
    "1. 可以使用其中一个名称来调用set_context()来设置参数，您可以通过提供参数值的字典来覆盖参数。\n",
    "   * sns.set_context(\"notebook\", font_scale=1.5, rc={\"lines.linewidth\": 2.5})"
   ]
  },
  {
   "cell_type": "markdown",
   "metadata": {},
   "source": [
    "# 2 调色板"
   ]
  },
  {
   "cell_type": "markdown",
   "metadata": {},
   "source": [
    "## 2.1 color_palette() 创建调色板\n",
    "默认颜色主题：deep, muted, pastel, bright, dark, 和 colorblind  \n",
    "current_palette = sns.color_palette('bright')  \n",
    "sns.palplot(current_palette)"
   ]
  },
  {
   "cell_type": "markdown",
   "metadata": {},
   "source": [
    "### 2.1.1 分类色板"
   ]
  },
  {
   "cell_type": "markdown",
   "metadata": {},
   "source": [
    "默认色板"
   ]
  },
  {
   "cell_type": "code",
   "execution_count": 10,
   "metadata": {},
   "outputs": [
    {
     "data": {
      "image/png": "[encoded data removed]",
      "text/plain": [
       "<Figure size 720x72 with 1 Axes>"
      ]
     },
     "metadata": {},
     "output_type": "display_data"
    }
   ],
   "source": [
    "# 默认色板\n",
    "current_palette = sns.color_palette()\n",
    "sns.palplot(current_palette)"
   ]
  },
  {
   "cell_type": "markdown",
   "metadata": {},
   "source": [
    "变化 `bright`"
   ]
  },
  {
   "cell_type": "code",
   "execution_count": 12,
   "metadata": {},
   "outputs": [
    {
     "data": {
      "image/png": "[encoded data removed]",
      "text/plain": [
       "<Figure size 432x72 with 1 Axes>"
      ]
     },
     "metadata": {},
     "output_type": "display_data"
    }
   ],
   "source": [
    "current_palette = sns.color_palette('bright')\n",
    "sns.palplot(current_palette)"
   ]
  },
  {
   "cell_type": "markdown",
   "metadata": {},
   "source": [
    "使用圆形颜色系统"
   ]
  },
  {
   "cell_type": "code",
   "execution_count": 13,
   "metadata": {},
   "outputs": [
    {
     "data": {
      "image/png": "[encoded data removed]",
      "text/plain": [
       "<Figure size 576x72 with 1 Axes>"
      ]
     },
     "metadata": {},
     "output_type": "display_data"
    }
   ],
   "source": [
    "sns.palplot(sns.color_palette(\"hls\", 8))\n",
    "# 使用hls_palette()函数来控制颜色的亮度和饱和\n",
    "# sns.palplot(sns.hls_palette(8, l=.3, s=.8))\n",
    "# l-亮度 lightness / s-饱和 saturation"
   ]
  },
  {
   "cell_type": "code",
   "execution_count": null,
   "metadata": {},
   "outputs": [],
   "source": []
  }
 ],
 "metadata": {
  "hide_input": false,
  "kernelspec": {
   "display_name": "Python 3",
   "language": "python",
   "name": "python3"
  },
  "language_info": {
   "codemirror_mode": {
    "name": "ipython",
    "version": 3
   },
   "file_extension": ".py",
   "mimetype": "text/x-python",
   "name": "python",
   "nbconvert_exporter": "python",
   "pygments_lexer": "ipython3",
   "version": "3.6.5"
  }
 },
 "nbformat": 4,
 "nbformat_minor": 2
}
